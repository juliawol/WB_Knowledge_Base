{
  "nbformat": 4,
  "nbformat_minor": 0,
  "metadata": {
    "colab": {
      "provenance": [],
      "authorship_tag": "ABX9TyNo5uCC/KioEHQbDrlghLoh",
      "include_colab_link": true
    },
    "kernelspec": {
      "name": "python3",
      "display_name": "Python 3"
    },
    "language_info": {
      "name": "python"
    }
  },
  "cells": [
    {
      "cell_type": "markdown",
      "metadata": {
        "id": "view-in-github",
        "colab_type": "text"
      },
      "source": [
        "<a href=\"https://colab.research.google.com/github/juliawol/WB_Knowledge_Base/blob/main/Recall.ipynb\" target=\"_parent\"><img src=\"https://colab.research.google.com/assets/colab-badge.svg\" alt=\"Open In Colab\"/></a>"
      ]
    },
    {
      "cell_type": "code",
      "execution_count": null,
      "metadata": {
        "id": "fsUF0r2DYEUv"
      },
      "outputs": [],
      "source": [
        "import pandas as pd\n",
        "from sentence_transformers import SentenceTransformer\n",
        "from sklearn.metrics.pairwise import cosine_similarity\n",
        "\n",
        "# Load the fine-tuned model\n",
        "model = SentenceTransformer('/content/fine_tuned_model_with_triplets')\n",
        "\n",
        "# Load the chunks to choose from and the ground truth data\n",
        "chunks_data_path = '/content/chunks.csv'\n",
        "eval_data_path = '/content/train_data1.csv'\n",
        "chunks_df = pd.read_csv(chunks_data_path)\n",
        "eval_data_df = pd.read_csv(eval_data_path)\n",
        "\n",
        "# Ensure the ground truth columns are correctly named\n",
        "eval_data_df = eval_data_df.rename(columns={'Chunk': 'Ground Truth Chunk'})\n",
        "\n",
        "# Pre-compute embeddings for all chunks in chunks.csv\n",
        "original_chunks = chunks_df['Chunk'].tolist()\n",
        "chunk_embeddings = model.encode(original_chunks, convert_to_tensor=True)\n",
        "\n",
        "# Function to calculate recall at k\n",
        "def calculate_recall_at_k(model, eval_data, k=5):\n",
        "    correct_at_k = 0\n",
        "    total = 0\n",
        "\n",
        "    for _, row in eval_data.iterrows():\n",
        "        question = row['Question']\n",
        "        ground_truth_chunk = row['Ground Truth Chunk']\n",
        "\n",
        "        # Embed the question\n",
        "        question_embedding = model.encode([question], convert_to_tensor=True)\n",
        "\n",
        "        # Calculate cosine similarity between the question and all chunk embeddings\n",
        "        cosine_similarities = cosine_similarity(question_embedding.cpu().numpy(), chunk_embeddings.cpu().numpy()).flatten()\n",
        "\n",
        "        # Get top-k most similar chunks\n",
        "        top_k_indices = cosine_similarities.argsort()[-k:][::-1]\n",
        "        top_k_chunks = [original_chunks[i] for i in top_k_indices]\n",
        "\n",
        "        # Check if the ground truth chunk is in the top-k retrieved chunks\n",
        "        if ground_truth_chunk in top_k_chunks:\n",
        "            correct_at_k += 1\n",
        "        total += 1\n",
        "\n",
        "    # Calculate recall at k\n",
        "    recall_at_k = correct_at_k / total\n",
        "    return recall_at_k\n",
        "\n",
        "# Calculate recall@1, recall@3, and recall@5\n",
        "recall_at_1 = calculate_recall_at_k(model, eval_data_df, k=1)\n",
        "recall_at_2 = calculate_recall_at_k(model, eval_data_df, k=2)\n",
        "recall_at_3 = calculate_recall_at_k(model, eval_data_df, k=3)\n",
        "recall_at_5 = calculate_recall_at_k(model, eval_data_df, k=5)\n",
        "\n",
        "print(f\"Recall@1: {recall_at_1:.4f}\")\n",
        "print(f\"Recall@1: {recall_at_2:.4f}\")\n",
        "print(f\"Recall@3: {recall_at_3:.4f}\")\n",
        "print(f\"Recall@5: {recall_at_5:.4f}\")"
      ]
    }
  ]
}
