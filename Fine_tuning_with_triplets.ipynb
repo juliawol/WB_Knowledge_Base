{
  "nbformat": 4,
  "nbformat_minor": 0,
  "metadata": {
    "colab": {
      "provenance": [],
      "authorship_tag": "ABX9TyMf6lHEAbPmVycvR+46MyqW",
      "include_colab_link": true
    },
    "kernelspec": {
      "name": "python3",
      "display_name": "Python 3"
    },
    "language_info": {
      "name": "python"
    }
  },
  "cells": [
    {
      "cell_type": "markdown",
      "metadata": {
        "id": "view-in-github",
        "colab_type": "text"
      },
      "source": [
        "<a href=\"https://colab.research.google.com/github/juliawol/WB_Knowledge_Base/blob/main/Fine_tuning_with_triplets.ipynb\" target=\"_parent\"><img src=\"https://colab.research.google.com/assets/colab-badge.svg\" alt=\"Open In Colab\"/></a>"
      ]
    },
    {
      "cell_type": "code",
      "execution_count": null,
      "metadata": {
        "id": "mLMj_YEbbKNa"
      },
      "outputs": [],
      "source": [
        "from sentence_transformers import SentenceTransformer, InputExample, losses\n",
        "from torch.utils.data import DataLoader\n",
        "import pandas as pd\n",
        "import random\n",
        "\n",
        "# Load the original datasets with positive and negative examples\n",
        "train_data_path = '/content/train_data.csv'\n",
        "train_data_df = pd.read_csv(train_data_path)\n",
        "\n",
        "# Define the terminology and its definitions as additional training examples\n",
        "terminology = [\n",
        "    (\"ТП\", \"торговая площадка. Платформа Wildberries.\"),\n",
        "    (\"ПВЗ\", \"пункт выдачи заказов. Место, куда покупатели приходят за посылками.\"),\n",
        "    (\"ШК офиса\", \"уникальный штрихкод, который даёт доступ к рабочему интерфейсу NPOS.\"),\n",
        "    (\"ID офиса\", \"номер пункта выдачи в системе Wildberries.\"),\n",
        "    (\"ID менеджера\", \"номер учетной записи в системе Wildberries.\"),\n",
        "    (\"ШК\", \"штрихкод. На упаковке каждого товара и на приходных коробках.\"),\n",
        "    (\"Стикер\", \"помогает узнать информацию о заказе, но не используется для поиска товара.\"),\n",
        "    (\"Баркод\", \"штрихкод производителя. Используется для сверки данных о товаре.\"),\n",
        "    (\"QR-код\", \"двумерный штрихкод с информацией, расшифровывается сканером.\"),\n",
        "    (\"Волна или волнорез\", \"стеллаж, где хранятся товары.\"),\n",
        "    (\"Приходная коробка\", \"упаковка, в которой заказы приходят в пункт выдачи.\"),\n",
        "    (\"Невостребованный товар\", \"товар, который покупатель не забрал из ПВЗ в течение 12 дней.\"),\n",
        "    (\"Невозвратный товар\", \"товар, который нельзя вернуть.\"),\n",
        "    (\"Возвратная коробка\", \"упаковка, в которой невостребованные товары отправляют обратно на склад.\"),\n",
        "    (\"Возвратная наклейка\", \"элемент упаковки со штрихкодом и номером коробки.\"),\n",
        "    (\"Сейф-пакет\", \"специальная упаковка для ювелирных изделий и гаджетов.\")\n",
        "]\n",
        "\n",
        "# Prepare triplet examples\n",
        "triplet_examples = []\n",
        "\n",
        "# Add terminology as (anchor, positive, negative) triplets\n",
        "for term, definition in terminology:\n",
        "    # Define anchor and positive\n",
        "    anchor = term\n",
        "    positive = definition\n",
        "    # Sample a negative definition from the terminology\n",
        "    negative = random.choice([defn for t, defn in terminology if defn != positive])\n",
        "    triplet_examples.append(InputExample(texts=[anchor, positive, negative]))\n",
        "\n",
        "# Add original training pairs from `train_data_df` with predefined negatives\n",
        "for _, row in train_data_df.dropna().iterrows():\n",
        "    question = row['Question']\n",
        "    positive_chunk = row['Chunk']\n",
        "    negative_chunk = row['Hard negative']  # Use the provided negative chunk\n",
        "    triplet_examples.append(InputExample(texts=[question, positive_chunk, negative_chunk]))\n",
        "\n",
        "# Initialize SentenceTransformer model and DataLoader\n",
        "model = SentenceTransformer('paraphrase-multilingual-mpnet-base-v2')\n",
        "train_dataloader = DataLoader(triplet_examples, shuffle=True, batch_size=16)\n",
        "\n",
        "# Define triplet loss\n",
        "train_loss = losses.TripletLoss(model=model, triplet_margin=1.0)\n",
        "\n",
        "# Fine-tune the model using triplet loss\n",
        "num_epochs = 3  # For our extremely small dataset\n",
        "model.fit(\n",
        "    train_objectives=[(train_dataloader, train_loss)],\n",
        "    epochs=num_epochs,\n",
        "    warmup_steps=100,\n",
        "    show_progress_bar=True\n",
        ")\n",
        "\n",
        "# Save and reload the fine-tuned model\n",
        "model_save_path = '/content/fine_tuned_model_with_triplets'\n",
        "model.save(model_save_path)\n",
        "fine_tuned_model = SentenceTransformer(model_save_path)\n"
      ]
    }
  ]
}