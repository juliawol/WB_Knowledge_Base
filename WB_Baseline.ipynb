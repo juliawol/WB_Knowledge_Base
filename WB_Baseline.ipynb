{
  "nbformat": 4,
  "nbformat_minor": 0,
  "metadata": {
    "colab": {
      "provenance": [],
      "authorship_tag": "ABX9TyP5PtM0gjxTIIMlliIrybfG",
      "include_colab_link": true
    },
    "kernelspec": {
      "name": "python3",
      "display_name": "Python 3"
    },
    "language_info": {
      "name": "python"
    }
  },
  "cells": [
    {
      "cell_type": "markdown",
      "metadata": {
        "id": "view-in-github",
        "colab_type": "text"
      },
      "source": [
        "<a href=\"https://colab.research.google.com/github/juliawol/WB_Knowledge_Base/blob/main/WB_Baseline.ipynb\" target=\"_parent\"><img src=\"https://colab.research.google.com/assets/colab-badge.svg\" alt=\"Open In Colab\"/></a>"
      ]
    },
    {
      "cell_type": "code",
      "execution_count": null,
      "metadata": {
        "id": "_oO2NRdYVrgc",
        "colab": {
          "base_uri": "https://localhost:8080/"
        },
        "outputId": "8f6dd3ad-b64a-4dfd-aa1f-8a0451008128"
      },
      "outputs": [
        {
          "output_type": "stream",
          "name": "stdout",
          "text": [
            "Requirement already satisfied: pymorphy2-dicts in /usr/local/lib/python3.10/dist-packages (2.4.393442.3710985)\n",
            "Requirement already satisfied: pymorphy2 in /usr/local/lib/python3.10/dist-packages (0.9.1)\n",
            "Requirement already satisfied: dawg-python>=0.7.1 in /usr/local/lib/python3.10/dist-packages (from pymorphy2) (0.7.2)\n",
            "Requirement already satisfied: pymorphy2-dicts-ru<3.0,>=2.4 in /usr/local/lib/python3.10/dist-packages (from pymorphy2) (2.4.417127.4579844)\n",
            "Requirement already satisfied: docopt>=0.6 in /usr/local/lib/python3.10/dist-packages (from pymorphy2) (0.6.2)\n",
            "Requirement already satisfied: nltk in /root/.local/lib/python3.10/site-packages (3.9.1)\n",
            "Requirement already satisfied: click in /usr/local/lib/python3.10/dist-packages (from nltk) (8.1.7)\n",
            "Requirement already satisfied: joblib in /usr/local/lib/python3.10/dist-packages (from nltk) (1.4.2)\n",
            "Requirement already satisfied: regex>=2021.8.3 in /usr/local/lib/python3.10/dist-packages (from nltk) (2024.9.11)\n",
            "Requirement already satisfied: tqdm in /usr/local/lib/python3.10/dist-packages (from nltk) (4.66.6)\n"
          ]
        }
      ],
      "source": [
        "!pip install pymorphy2-dicts\n",
        "!pip install pymorphy2\n",
        "!pip install --user -U nltk\n"
      ]
    },
    {
      "cell_type": "code",
      "source": [
        "import nltk\n",
        "nltk.download('punkt_tab')"
      ],
      "metadata": {
        "colab": {
          "base_uri": "https://localhost:8080/"
        },
        "id": "-9IfUJjn0EiD",
        "outputId": "50f52380-235e-417a-ef13-0933ef1513e2"
      },
      "execution_count": null,
      "outputs": [
        {
          "output_type": "stream",
          "name": "stderr",
          "text": [
            "[nltk_data] Downloading package punkt_tab to /root/nltk_data...\n",
            "[nltk_data]   Unzipping tokenizers/punkt_tab.zip.\n"
          ]
        },
        {
          "output_type": "execute_result",
          "data": {
            "text/plain": [
              "True"
            ]
          },
          "metadata": {},
          "execution_count": 4
        }
      ]
    },
    {
      "cell_type": "code",
      "source": [
        "nltk.download('stopwords')"
      ],
      "metadata": {
        "colab": {
          "base_uri": "https://localhost:8080/"
        },
        "id": "IolB0uzT0NRh",
        "outputId": "6d52abb3-1932-497a-8ebb-dba448217dbf"
      },
      "execution_count": null,
      "outputs": [
        {
          "output_type": "stream",
          "name": "stderr",
          "text": [
            "[nltk_data] Downloading package stopwords to /root/nltk_data...\n",
            "[nltk_data]   Unzipping corpora/stopwords.zip.\n"
          ]
        },
        {
          "output_type": "execute_result",
          "data": {
            "text/plain": [
              "True"
            ]
          },
          "metadata": {},
          "execution_count": 5
        }
      ]
    },
    {
      "cell_type": "code",
      "source": [
        "import re\n",
        "import pandas as pd\n",
        "from sklearn.feature_extraction.text import TfidfVectorizer\n",
        "from sklearn.metrics.pairwise import cosine_similarity\n",
        "import nltk\n",
        "from nltk.corpus import stopwords\n",
        "from nltk.tokenize import word_tokenize\n",
        "from pymorphy2 import MorphAnalyzer\n",
        "\n",
        "# Initialize tools for preprocessing\n",
        "morph = MorphAnalyzer()\n",
        "stop_words = stopwords.words('russian')\n",
        "\n",
        "# Define terminology and create a vocabulary list from it\n",
        "terminology = [\n",
        "    (\"ТП\", \"торговая площадка. Платформа Wildberries.\"),\n",
        "    (\"ПВЗ\", \"пункт выдачи заказов. Место, куда покупатели приходят за посылками.\"),\n",
        "    (\"ШК офиса\", \"уникальный штрихкод, который даёт доступ к рабочему интерфейсу NPOS.\"),\n",
        "    (\"ID офиса\", \"номер пункта выдачи в системе Wildberries.\"),\n",
        "    (\"ID менеджера\", \"номер учетной записи в системе Wildberries.\"),\n",
        "    (\"ШК\", \"штрихкод. На упаковке каждого товара и на приходных коробках.\"),\n",
        "    (\"Стикер\", \"помогает узнать информацию о заказе, но не используется для поиска товара.\"),\n",
        "    (\"Баркод\", \"штрихкод производителя. Используется для сверки данных о товаре.\"),\n",
        "    (\"QR-код\", \"двумерный штрихкод с информацией, расшифровывается сканером.\"),\n",
        "    (\"Волна или волнорез\", \"стеллаж, где хранятся товары.\"),\n",
        "    (\"Приходная коробка\", \"упаковка, в которой заказы приходят в пункт выдачи.\"),\n",
        "    (\"Невостребованный товар\", \"товар, который покупатель не забрал из ПВЗ в течение 12 дней.\"),\n",
        "    (\"Невозвратный товар\", \"товар, который нельзя вернуть.\"),\n",
        "    (\"Возвратная коробка\", \"упаковка, в которой невостребованные товары отправляют обратно на склад.\"),\n",
        "    (\"Возвратная наклейка\", \"элемент упаковки со штрихкодом и номером коробки.\"),\n",
        "    (\"Сейф-пакет\", \"специальная упаковка для ювелирных изделий и гаджетов.\")\n",
        "]\n",
        "terminology_dict = dict(terminology)\n",
        "custom_vocabulary = list(terminology_dict.keys())\n",
        "\n",
        "# Load data\n",
        "train_data_df = pd.read_csv(\"/content/train_data.csv\")\n",
        "chunks_df = pd.read_csv(\"/content/chunks.csv\")\n",
        "\n",
        "# Retrieve the original chunks for final output\n",
        "chunk_texts_original = chunks_df['Chunk'].tolist()\n",
        "\n",
        "# Function to preprocess text: punctuation removal, lemmatization, stop-word filtering\n",
        "def preprocess_text(text):\n",
        "    # Lowercase the text\n",
        "    text = text.lower()\n",
        "    # Remove punctuation\n",
        "    text = re.sub(r'[^\\w\\s]', '', text)\n",
        "    # Tokenize and lemmatize, removing stop words\n",
        "    tokens = word_tokenize(text)\n",
        "    tokens = [morph.parse(token)[0].normal_form for token in tokens if token not in stop_words]\n",
        "    return ' '.join(tokens)\n",
        "\n",
        "# Preprocess chunks and extend each chunk with relevant terminology definitions if applicable\n",
        "chunk_texts_preprocessed = []\n",
        "for chunk in chunk_texts_original:\n",
        "    # Handle missing values (NaN) by replacing them with an empty string\n",
        "    if pd.isnull(chunk):  # Check if chunk is NaN\n",
        "        chunk = \"\"  # Replace NaN with empty string\n",
        "    # Preprocess the chunk first\n",
        "    preprocessed_chunk = preprocess_text(chunk)\n",
        "    # Check for terms in the preprocessed chunk\n",
        "    terms_in_chunk = [term for term in custom_vocabulary if term.lower() in preprocessed_chunk]\n",
        "    # Append definitions of found terms\n",
        "    definitions = \" \".join(terminology_dict.get(term, '') for term in terms_in_chunk)\n",
        "    # Combine and preprocess again\n",
        "    combined_text = preprocess_text(chunk + \" \" + definitions)\n",
        "    chunk_texts_preprocessed.append(combined_text)\n",
        "\n",
        "\n",
        "# Vectorize chunks using TF-IDF without custom vocabulary\n",
        "vectorizer = TfidfVectorizer()\n",
        "chunk_vectors = vectorizer.fit_transform(chunk_texts_preprocessed)\n",
        "\n",
        "# Function to find top-k relevant chunks for a question, retrieving original unprocessed chunks\n",
        "def find_relevant_chunks_tfidf(question, top_k=5):\n",
        "    # Preprocess the question for similarity search\n",
        "    question_preprocessed = preprocess_text(question)\n",
        "    question_vector = vectorizer.transform([question_preprocessed])\n",
        "\n",
        "    # Debugging: Check if the question vector is not all zeros\n",
        "    if not question_vector.nnz:\n",
        "        print(\"Warning: Question vector is all zeros.\")\n",
        "\n",
        "    # Calculate cosine similarities and retrieve top-k indices\n",
        "    cosine_similarities = cosine_similarity(question_vector, chunk_vectors).flatten()\n",
        "    top_indices = cosine_similarities.argsort()[-top_k:][::-1]\n",
        "\n",
        "    # Retrieve original, unprocessed chunks for readability\n",
        "    relevant_chunks = [chunk_texts_original[i] for i in top_indices]\n",
        "    return relevant_chunks\n",
        "\n",
        "# Example usage\n",
        "question = \"Как завершить приемку товара без штрихкода?\"\n",
        "relevant_chunks = find_relevant_chunks_tfidf(question)\n",
        "print(\"/nTF-IDF Relevant Chunks:\", relevant_chunks)\n"
      ],
      "metadata": {
        "id": "B3NxZgAXV0p4",
        "colab": {
          "base_uri": "https://localhost:8080/"
        },
        "outputId": "dfd76663-8f3c-4231-a090-6978c192f51b"
      },
      "execution_count": null,
      "outputs": [
        {
          "output_type": "stream",
          "name": "stdout",
          "text": [
            "/nTF-IDF Relevant Chunks: ['На товаре нет штрихкода при приемке: Способ 1  1. Если на товаре есть баркод, откройте раздел «Движение вещей» 2. Пикните баркод вещи — в программе отобразится приходная коробка и штрихкод товара  Способ 2  1. Запишите данные коробки, в которой был товар 2. Когда завершите приёмку, создайте обращение 3. Укажите номер коробки и баркод вещи — КЦ пришлют правильный штрихкод  Способ 3  1. После того как приняли и разложили все товары, откройте раздел «Движение вещей» 2. Выберите нужную дату: в окне отобразится операция «Завершение приёмки коробки» 3. Скопируйте номер из столбца «ШК / Стикер» 4. Перейдите в раздел «История ШК» и вставьте номер в пустое поле 5. Сравните вещь с карточкой товара. Если совпадает, примите товар вручную и напишите ШК на пакете. Если нет, напишите руководителю или в поддержку', 'Если на товаре при приемке вместо ШК стикер с QR-кодом, сканируйте его так же, как и обычный штрихкод.', 'Одновременно можно принимать до 10 коробок. Вы также можете разбирать коробки по одной: просканировать первую, разложить вещи по ячейкам, а затем просканировать коробку, чтобы завершить приёмку, и только после этого переходить к следующей коробке', 'Если на приемке заметите товар, у которого два штрихкода, лучше отложить его и принять в последнюю очередь.  Сделайте фотографии и видео с товаром, чтобы было видно оба ШК.Доказательства пригодятся, если придётся оспаривать удержание за неизвестный товар — он пропадёт из программы через 3 дня', 'Для завершения приёмки: 1. Когда разложите все товары, вернитесь в раздел «Приёмка» → Приём коробок 2. Нажмите кнопку «Разбор окончен» справа от каждой коробки, которую успели разобрать  Не делайте пишите ручкой или маркером на упаковке товара Покупатель может расценить пометку как брак и вернуть товар по заявке. За это с менеджера спишут 50% от стоимости товара. Подробности — в инструкции Удержания: сколько и за что могут вычесть']\n"
          ]
        }
      ]
    },
    {
      "cell_type": "code",
      "source": [
        "# Example usage\n",
        "question = \"Кто решает, когда делать генеральную уборку?\"\n",
        "relevant_chunks = find_relevant_chunks_tfidf(question)\n",
        "print(\"TF-IDF Relevant Chunks:\", relevant_chunks)"
      ],
      "metadata": {
        "id": "JDPcT8FeV5FP",
        "colab": {
          "base_uri": "https://localhost:8080/"
        },
        "outputId": "f6cb224a-c529-4dc0-f284-422070ed2c64"
      },
      "execution_count": null,
      "outputs": [
        {
          "output_type": "stream",
          "name": "stdout",
          "text": [
            "TF-IDF Relevant Chunks: ['Как часто проводить генеральную уборку, решает руководитель пункта. Обычно — от 1 раза в неделю до 1 раза в 1-2 месяца.  Что сделать:  - Выполнить все пункты из чек-листа «Ежедневная уборка» - Убрать паутину из углов - Отмыть ножи и ножницы от скотча, заменить лезвия - Протереть технику, антивандальный ящик - Протереть мебель - Протереть огнетушители и подставки под них - Постирать шторы из примерочных - Помыть коврики - Заказать расходники, если что-то закончилось', 'Mikrotik роутеры настраивают руководители филиалов. Менеджерам не нужно ничего делать', 'Приёмка товаров делится на несколько этапов: курьер привозит заказы в приходных коробках, менеджер сверяет адрес и принимает коробки на баланс, а потом распределяет товары по ячейкам. Рассказываем подробнее, что делать на каждом из этапов.', 'Какие расходные материалы должны быть в пункте: - Средство для мытья пола, - Средство для мытья стёкол, - Скотч, - Канцелярские ножи и сменные лезвия, - Тряпки для уборки, - Ластики, ручки, фломастеры и маркеры, - Возвратные наклейки, - Влажные салфетки, - Бумага А4, - Картриджи для принтера, - Рожки для обуви, - Крючки для примерочных, - Ароматические диффузоры.  Пополняйте запасы расходников на деньги, которые выделяют на хозяйственные нужды. Если возникнут проблемы, сообщите руководителю', 'Покупатели не знают, как устроены процессы в Wildberries, поэтому направляют негатив на менеджера пункта, даже если ошибка произошла не по вашей вине.  Что делать,  если возник конфликт:  - Не поддавайтесь эмоциям, если покупатель проявляет агрессию и провоцирует. - Говорите спокойно и чётко, даже когда ситуация накаляется. - Не принимайте негатив на свой счёт. Постарайтесь как можно лучше разобраться в проблеме. Покажите искренний интерес, чтобы покупатель понимал, что ему хотят помочь.  Что делать:  - Узнайте имя. Обращайтесь к покупателю только так, как он представился. Если обсуждаете проблему при покупателе с сотрудником поддержки или руководством, не используйте местоимения «он» или «она» — называйте клиента по имени. - Выслушайте. Дайте покупателю высказаться и не перебивайте — так вы сможете понять контекст и вникнуть в суть проблемы. - Задайте вопросы. Когда покупатель закончит монолог, вежливо уточните то, что не поняли: «Я правильно вас услышал…?» «Я правильно понимаю, что…?» - Проявите эмпатию. Посочувствуйте, если покупатель расстроен: «Мне очень жаль, что вы получили вещь с дефектом». «Понимаю, как это неприятно». «Понимаю ваше негодование». - Извинитесь, если действительно допустили ошибку: «Извините, что списал деньги не за тот товар». «Простите за неудобства». «Извините, что вам приходится разбираться с этим». «Это моя ошибка, простите». Когда дали покупателю высказаться и разобрались в ситуации, предложите решение.  Что делать:  - Решите проблему. Проговорите все шаги для покупателя: «Сейчас мы вместе посмотрим товар под камерами и всё проверим. Если с вещью снова будут проблемы, сразу оформим возврат». - Предложите альтернативу. Если не можете решить проблему здесь и сейчас, помогите создать заявку на проверку товара или связаться со службой поддержки. - Не стесняйтесь обратиться за советом. Если не знаете, как поступить, попросите помочь более опытного коллегу или руководство.']\n"
          ]
        }
      ]
    },
    {
      "cell_type": "code",
      "source": [
        "# Example usage\n",
        "question = \"Что делать, если в заказе есть товар, который нельзя вернуть?\"\n",
        "relevant_chunks = find_relevant_chunks_tfidf(question)\n",
        "print(\"TF-IDF Relevant Chunks:\", relevant_chunks)"
      ],
      "metadata": {
        "id": "P-Cu-UUdV5dL",
        "colab": {
          "base_uri": "https://localhost:8080/"
        },
        "outputId": "cac17847-4b98-4efa-86a9-6d447bce21cc"
      },
      "execution_count": null,
      "outputs": [
        {
          "output_type": "stream",
          "name": "stdout",
          "text": [
            "TF-IDF Relevant Chunks: ['Конфликты и недовольство чаще всего возникают, если: - менеджер делает что-то не так, например, случайно выдаёт невозвратный товар; - покупатель невнимательно оформляет заказ, например, не замечает, что отказ от товара платный или вещь невозвратная.  Рассказываем, как вести себя в конфликтной ситуации, в инструкции Как построить конструктивный диалог с покупателем\\u200b', 'Какими бывают статусы заказа: -Оформлен: заказ принят в системе - Отправлен на сборку: товар проверяют и готовят к отправке - Собран: товар в наличии, заказ подтвердили и упаковали - Отсортирован: заказ готов к транспортировке - В пути на СЦ: заказ доставляют в сортировочный центр - В пути на пункт выдачи: заказ везут в пункт выдачи - Готов к выдаче: заказ можно забирать - Получен: покупатель забрал заказ - Возврат: покупатель вернул товар', 'Если в заказе несколько позиций, вернуть на полку можно только все товары вместе — разделять заказ нельзя. Чтобы отложить заказ, нажмите кнопку «Снять с примерки» в правом нижнем углу и следуйте инструкциям, а затем верните товары на прежнее место. Важно напомнить покупателю, что срок хранения — 12 календарных дней с момента доставки в пункт', 'Покупатель может попросить вас отложить товары. Но если в заказе несколько позиций, вернуть на полку можно только все товары вместе — разделять заказ нельзя. Чтобы отложить заказ, нажмите на кнопку «Снять с примерки» в нижнем правом углу и следуйте инструкциям, а затем верните товары на прежнее место. Важно напомнить покупателю, что срок хранения — 12 календарных дней с момента доставки в пункт. ', 'Для завершения приёмки: 1. Когда разложите все товары, вернитесь в раздел «Приёмка» → Приём коробок 2. Нажмите кнопку «Разбор окончен» справа от каждой коробки, которую успели разобрать  Не делайте пишите ручкой или маркером на упаковке товара Покупатель может расценить пометку как брак и вернуть товар по заявке. За это с менеджера спишут 50% от стоимости товара. Подробности — в инструкции Удержания: сколько и за что могут вычесть']\n"
          ]
        }
      ]
    },
    {
      "cell_type": "code",
      "source": [
        "# Example usage\n",
        "question = \"Что делать, сломалась вывеска?\"\n",
        "relevant_chunks = find_relevant_chunks_tfidf(question)\n",
        "print(\"TF-IDF Relevant Chunks:\", relevant_chunks)"
      ],
      "metadata": {
        "id": "Qwwg0CDDV-vZ",
        "colab": {
          "base_uri": "https://localhost:8080/"
        },
        "outputId": "29036683-2358-4eee-a25f-0095a9a614ea"
      },
      "execution_count": null,
      "outputs": [
        {
          "output_type": "stream",
          "name": "stdout",
          "text": [
            "TF-IDF Relevant Chunks: ['Вывеска не работает, зеркало треснуло, стеллаж упал, у лавочки сломалась ножка? Сообщите об этом руководителю, чтобы он помог с ремонтом или заменой', 'Если сломалась или повредилась мебель, зеркало или коврик, сообщите руководителю, что нужен ремонт. - Если сломался светильник или перегорела лампочка, замените на такие же самостоятельно или сообщите руководителю о проблеме. - Если сломался тейбл-тент — подставка для объявлений — закажите новый на WB или попросите руководителя. Артикулы: 20868971 или 97295309  Нельзя использовать картон вместо тейбл-тентов и писать объявления от руки', 'Если сломалась вывеска Wildberries, лайтбокс, лестница, перила, пандус, дверь, дверная ручка или доводчик, сообщите руководителю, что нужен ремонт. - Если нужно заменить наклейку с режимом работы, закажите новую на WB. Найти наклейку можно по запросу: «Режимник Wildberries наклейка». Перед заказом проверьте, что время на наклейке совпадает с режимом работы вашего пункта. - Если сломалась табличка «Открыто-закрыто-перерыв», закажите новую на WB. Артикулы: 151809269 или 76873490  Нельзя писать на картоне от руки вместо таблички', 'Mikrotik роутеры настраивают руководители филиалов. Менеджерам не нужно ничего делать', 'Среди обязанностей менеджера — следить за состоянием пункта выдачи, поддерживать помещение в чистоте и пополнять запасы расходников. Ниже вы найдёте список всего необходимого, а ещё рекомендации на случай, если что-то сломалось или повредилось.']\n"
          ]
        }
      ]
    },
    {
      "cell_type": "code",
      "source": [
        "# Example usage\n",
        "question = \"Что делать, сломался роутер\"\n",
        "relevant_chunks = find_relevant_chunks_tfidf(question)\n",
        "print(\"TF-IDF Relevant Chunks:\", relevant_chunks)"
      ],
      "metadata": {
        "id": "f_sFdyXGV_ir",
        "colab": {
          "base_uri": "https://localhost:8080/"
        },
        "outputId": "4b90fa2c-9187-4315-a83b-a95ad4b6a525"
      },
      "execution_count": null,
      "outputs": [
        {
          "output_type": "stream",
          "name": "stdout",
          "text": [
            "TF-IDF Relevant Chunks: ['Mikrotik роутеры настраивают руководители филиалов. Менеджерам не нужно ничего делать', 'Если сломалась или повредилась мебель, зеркало или коврик, сообщите руководителю, что нужен ремонт. - Если сломался светильник или перегорела лампочка, замените на такие же самостоятельно или сообщите руководителю о проблеме. - Если сломался тейбл-тент — подставка для объявлений — закажите новый на WB или попросите руководителя. Артикулы: 20868971 или 97295309  Нельзя использовать картон вместо тейбл-тентов и писать объявления от руки', 'Настройка роутера ASUS  https://docs.google.com/document/d/1LrPu34EVSozrJ6suZLTwcQTgZgqULttM34v04yFhhr0/edit#heading=h.drjxa7ls1f3y', 'Настройка роутера HUAWEI  https://docs.google.com/document/d/1QvreMLX9jdo2e0ea_XSMPzfpFPmncUVHA_BPvV475mg/edit#heading=h.trgtokopugrp', 'Настройка роутера TP-Link  https://docs.google.com/document/d/1MZ1--LGUhcu6CwGtiS9j2XD9_n88luvXTLgGW2EFaqg/edit']\n"
          ]
        }
      ]
    },
    {
      "cell_type": "code",
      "source": [
        "# Define a function to calculate Recall@k for TF-IDF model\n",
        "def calculate_recall_at_k(test_data, top_k_values=[1, 3, 5]):\n",
        "    recall_scores = {k: 0 for k in top_k_values}\n",
        "    total_questions = len(test_data)\n",
        "\n",
        "    for _, row in test_data.iterrows():\n",
        "        question = row['Question']\n",
        "        true_chunk = row['Chunk']\n",
        "\n",
        "        retrieved_chunks = find_relevant_chunks_tfidf(question, top_k=max(top_k_values))\n",
        "\n",
        "        for k in top_k_values:\n",
        "            if true_chunk in retrieved_chunks[:k]:\n",
        "                recall_scores[k] += 1\n",
        "\n",
        "    recall_at_k = {f\"Recall@{k}\": recall_scores[k] / total_questions for k in top_k_values}\n",
        "    return recall_at_k\n",
        "\n",
        "# Test the recall calculation on a sample of the test data\n",
        "sampled_test_data = train_data_df.sample(frac=0.1, random_state=42)  # Sample 10% for testing\n",
        "recall_scores = calculate_recall_at_k(sampled_test_data, top_k_values=[1, 3, 5])\n",
        "\n",
        "# Display recall scores\n",
        "print(recall_scores)"
      ],
      "metadata": {
        "id": "0_0n5ojGWCg4",
        "colab": {
          "base_uri": "https://localhost:8080/"
        },
        "outputId": "880a4467-642f-4256-92ff-71c40bf52f8e"
      },
      "execution_count": null,
      "outputs": [
        {
          "output_type": "stream",
          "name": "stdout",
          "text": [
            "{'Recall@1': 0.25, 'Recall@3': 0.5, 'Recall@5': 0.5833333333333334}\n"
          ]
        }
      ]
    }
  ]
}